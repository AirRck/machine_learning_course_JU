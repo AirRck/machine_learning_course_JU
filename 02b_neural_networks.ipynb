{
 "cells": [
  {
   "cell_type": "code",
   "execution_count": 1,
   "metadata": {},
   "outputs": [],
   "source": [
    "from typing import List, Tuple\n",
    "\n",
    "import numpy as np\n",
    "import torch\n",
    "import torchvision\n",
    "from torch import nn\n",
    "from torch.nn.functional import cross_entropy\n",
    "from torch.optim import SGD\n",
    "from torchvision.datasets import MNIST"
   ]
  },
  {
   "cell_type": "markdown",
   "metadata": {},
   "source": [
    "# Sieci neuronowe\n",
    "\n",
    "## MNIST\n",
    "Popularnym \"prostym\" datasetem, na którym można przetestować nasz model zanim zajmiemy się trudniejszymi problemami, jest MNIST, zbiór danych zawierających ręcznie rysowane cyfry. Poniżej kilka przykładowych cyfr:\n",
    "\n",
    "<img width=\"400\" src=\"https://miro.medium.com/proxy/0*At0wJRULTXvyA3EK.png\" />\n",
    "\n",
    "\n",
    "Zadanie naszego modelu polega na tym, by na podstawie obrazka narysowanej ręcznie cyfry określić, jaka to jest cyfra.\n",
    "\n",
    "Czyli nasz model, widząc taki obrazek:\n",
    "<img width=\"200\" src=\"https://machinelearningmastery.com/wp-content/uploads/2019/02/sample_image-768x763.png\" />\n",
    "\n",
    "powinien odpowiedzieć, że to cyfra \"7\".\n",
    "\n",
    "\n",
    "**Pytanie: Czy w takim sformułowaniu MNIST służy do regresji czy do klasyfikacji?**"
   ]
  },
  {
   "cell_type": "raw",
   "metadata": {},
   "source": [
    "Służy do klasyfikacji. Przypisuje jedną z klas od \"0\" do \"9\" do każdego obrazka."
   ]
  },
  {
   "cell_type": "markdown",
   "metadata": {},
   "source": [
    "## Praca na obrazkach\n",
    "Nasze modele jak dotąd przyjmowały wyłącznie wektory - w jaki sposób możemy w takich modelach przetwarzać obrazki?\n",
    "\n",
    "Obrazek to tak naprawdę trójwymiarowa tablica pikseli o wymiarach: `[H, W, C]`, gdzie `H` to wysokość, `W` to szerokość, a `C` to liczba kanałów (klasycznie: red, green, blue).\n",
    "\n",
    "Najprostsze co możemy zrobić, to spłaszczyć naszą tablicę do jednego wymiaru, wektora o kształcie `[H * W * C]`. W przypadku MNIST-a nasze obrazki mają wymiar `28x28` pikseli i jest tylko jeden kanał (odcienie szarości), więc każdy z naszych wektorów będzie miał kształt `[28 * 28] = [784]`.\n",
    "\n",
    "W przyszłości poznamy też sprytniejsze sposoby działania na obrazkach, np. za pomocą sieci konwolucyjnych.\n",
    "\n",
    "## Stochastic gradient descent\n",
    "\n",
    "Dotychczas kiedy chcieliśmy minimalizować funkcję kosztu $L(X; \\theta)$ dla całego naszego zbioru $X \\in \\mathbb{R}^{NxD}$, liczyliśmy średni koszt dla wszystkich elementów $x \\in X$, tzn. \n",
    "\n",
    "$$L(X; \\theta) = \\frac{1}{N} \\sum_i L(x_i; \\theta) $$\n",
    "\n",
    "Następnie liczyliśmy gradient tego kosztu, żeby zminimalizować funkcję.\n",
    "\n",
    "W praktyce może się okazać, że nasz dataset jest gigantyczny, np. kiedy mamy miliony przykładów. Niepraktyczne wtedy jest liczenie całego tego kosztu a tym bardziej gradientu. W praktyce w każdym kroku liczymy funkcję kosztu (i jej gradient) z innego podzbioru elementów w naszym zbiorze, czyli z tzw. **batcha**:\n",
    "\n",
    "$$L_{\\mathrm{batch}} (X;\\theta) = \\frac{1}{|B|} \\sum_{x \\in B} L(x; \\theta) $$ \n",
    "\n",
    "Gradient po koszcie policzonym z batcha będzie inny niż gradient liczony po koszcie policzonym z całego zbioru, ale powinny być w miarę podobne, tzn:\n",
    "\n",
    "$$ \\nabla_\\theta L_{\\mathrm{batch}} (X; \\theta) \\approx \\nabla_\\theta L(X; \\theta) $$\n",
    "\n",
    "Metodę spadku gradientu zaimplementowaną w ten sposób (batchowo) nazywamy metodą **stochastycznego spadku gradientu** (*Stochastic Gradient Descent, SGD*). \n",
    "\n",
    "\n",
    "## Torchvision\n",
    "PyTorch, a także pakiet `torchvision` udostępnia parę przydatnych narzędzi, z których skorzystamy na dzisiejszych zajęciach. Dla przykładu znacznie uproszczone jest pobieranie i ładowanie danych. W pakiecie [`torchvision.datasets`](https://pytorch.org/docs/stable/torchvision/datasets.html) znajdziemy popularne datasety, m.in. właśnie MNIST-a.\n",
    "\n",
    "Oprócz tego z samego `torcha` możemy skorzystać z [`DataLoadera`](https://pytorch.org/docs/stable/data.html#torch.utils.data.DataLoader), który implementuje wiele przydatnych operacji do ładowania danych, np. dzielenie datasetu w batche i shufflowanie."
   ]
  },
  {
   "cell_type": "markdown",
   "metadata": {},
   "source": [
    "## Zadanie 1 (2 pkt.)\n",
    "Klasa `MNIST` zwraca nam dane w postaci obiektów [PIL](https://pillow.readthedocs.io/en/stable/). Należy je odpowiednio przetworzyć, zanim będziemy mogli na nich pracować.\n",
    "\n",
    "Za pomocą [`transformacji`](https://pytorch.org/vision/stable/transforms.html) podawanych do klasy MNIST należy:\n",
    "1. Zamienić obiekty `PIL` na Tensory.\n",
    "2. Policzyć średnią i odchylenie standardowe pikseli dla **całego zbioru trenującego** i użyć ich później do znormalizowania danych trenujących i testowych. Do liczenia średniej i odchylenia standardowego wykorzystać funkcję  `calculate_mean_and_std` (proszę zwrócić uwagę na to w jakim przedziale znajdują się dane przed normalizacją – chcemy aby były w przedziale 0-1). **HINT**: Tutaj torchvision powinien nam to ułatwić.\n",
    "3. Zmienić \"kształt\" każdego przykładu z `28x28` na `784`.\n",
    "    **HINT**: [`Lambda`](https://pytorch.org/vision/stable/generated/torchvision.transforms.Lambda.html)\n",
    "\n",
    "Uwaga: proszę zwrócić uwagę co dokładnie robią używane_transformacje!"
   ]
  },
  {
   "cell_type": "code",
   "execution_count": 34,
   "metadata": {},
   "outputs": [],
   "source": [
    "from torchvision.transforms import ToTensor, Normalize, Lambda, Compose\n",
    "\n",
    "\n",
    "def calculate_mean_and_std() -> Tuple[float, float]:\n",
    "    transform = ToTensor()  # Zamienia obrazy PIL na tensory w przedziale [0, 1]\n",
    "    \n",
    "    train_data = MNIST(root=\".\", train=True, download=True, transform=transform)\n",
    "    \n",
    "    loader = torch.utils.data.DataLoader(train_data, batch_size=60000, shuffle=True) #Próbowałem dla różnych batch size - zwykle nie przechodziło testów przez (odrobinę za duży błąd)\n",
    "    \n",
    "    for data, _ in loader:\n",
    "        mean = data.mean()\n",
    "        std = data.std()\n",
    "        \n",
    "    return mean.item(), std.item()\n",
    "\n",
    "mean, std = calculate_mean_and_std()\n",
    "\n",
    "# Transformacje dla zbiorów treningowych i testowych\n",
    "transform = Compose([\n",
    "    ToTensor(),  # Zamiana PIL na Tensor\n",
    "    Normalize((mean,), (std,)),  # Normalizacja z użyciem obliczonej średniej i odchylenia\n",
    "    Lambda(lambda x: x.view(-1))  # Zmiana kształtu na 784\n",
    "])\n",
    "\n",
    "train_data = MNIST(\n",
    "    root=\".\",\n",
    "    download=True,\n",
    "    train=True,\n",
    "    transform=transform \n",
    ")\n",
    "\n",
    "test_data = MNIST(\n",
    "    root=\".\",\n",
    "    download=True,\n",
    "    train=False,\n",
    "    transform=transform\n",
    ")"
   ]
  },
  {
   "cell_type": "code",
   "execution_count": 35,
   "metadata": {},
   "outputs": [
    {
     "name": "stdout",
     "output_type": "stream",
     "text": [
      "0.13066047430038452 0.30810782313346863\n"
     ]
    }
   ],
   "source": [
    "mean, std = calculate_mean_and_std()\n",
    "print(mean,std)\n",
    "assert np.isclose(mean, 0.1306, atol=1e-4)\n",
    "assert np.isclose(std, 0.3081, atol=1e-4)"
   ]
  },
  {
   "cell_type": "code",
   "execution_count": 36,
   "metadata": {},
   "outputs": [],
   "source": [
    "train_loader = torch.utils.data.DataLoader(train_data, batch_size=10)\n",
    "\n",
    "x, y = next(iter(train_loader))\n",
    "assert len(x.shape) == 2\n",
    "assert x.shape == (10, 784)"
   ]
  },
  {
   "cell_type": "markdown",
   "metadata": {},
   "source": [
    "# Sieci neuronowe\n",
    "\n",
    "### Modele liniowe\n",
    "\n",
    "Jak dotąd omawialiśmy wyłącznie modele liniowe, tzn. takie, które dla zadanego $x$ potrafiły modelować funkcję rodzaju $$f(x) = g(w^T x + b) $$\n",
    "gdzie $x \\in \\mathbb{R}^D, w \\in \\mathbb{R}^D$, $b \\in \\mathbb{R}$ a $g$ to funkcja aktywacji, np. sigmoid.\n",
    "\n",
    "Możemy też stworzyć podobny model, który na wyjściu nie będzie podawał jednej liczby, ale cały wektor o wymiarze $K$, tzn:\n",
    "$$f(x) = g(W^T x + \\mathbf{b}), $$\n",
    "gdzie $W$ jest teraz macierzą a $\\mathbf{b}$ wektorem, tzn. $W \\in \\mathbb{R}^{DxK}, \\mathbf{b} \\in \\mathbb{R}^{K}$.\n",
    "\n",
    "### Zanurzenia\n",
    "\n",
    "Jeżeli chcieliśmy, żeby takie modele mogły zajmować się problemami nieliniowymi, musieliśmy znaleźć odpowiednią reprezentację danych (zanurzenia wielomianowe, kernele dla SVM-ów), które sprawi, że w nowej przestrzeni problem będzie liniowy. W tym celu trzeba \"zgadnąć\", jakie przekształcenie jest właściwe - co w przypadku bardziej skomplikowanych problemów jest niezwykle trudne. \n",
    "\n",
    "Ważne pytanie: **czy jesteśmy w stanie zbudować model, który znajdzie nam odpowiednią reprezentację dla danych?**\n",
    "\n",
    "### Nakładanie warstw liniowych\n",
    "\n",
    "**Rozwiązanie:** Nałóżmy na siebie kilka warstw modeli liniowych, np:\n",
    "$$\n",
    "f(x) = g_2(W_2^T (g_1(W_1^T x + \\mathbf{b_1})) + \\mathbf{b_2}),\n",
    "$$\n",
    "czyli, rozpisując czytelniej:\n",
    "$$\n",
    "f(x) = f^{(2)}(f^{(1)}(x)) \\\\\n",
    "f^{(1)}(x) = g_1(W_1^T x + \\mathbf{b_1}) \\\\ \n",
    "f^{(2)}(x) = g_2(W_2^T x + \\mathbf{b_2})\n",
    "$$\n",
    "\n",
    "Powstały model nazywamy **sztuczną siecią neuronową** (*artificial neural network*).\n",
    " \n",
    "Każdą funkcję $f^{(i)}$ nazywamy **warstwą** (*layer*). W naszej sieci możemy umieścić dowolnie wiele warstw, ale na razie będziemy zajmować się modelami nieszczególnie głębokimi (mniej niż 10 warstw).\n",
    "\n",
    "Warstwy $f^{(i)}$ mogą implementować dowolną funkcję, ale jeśli mają postać $g(W^Tx +\\mathbf{b})$, to nazywamy je warstwami liniowymi lub warstwami *fully connected*. Na tych zajęciach będziemy zajmować się wyłącznie sieciami o takiej postaci.\n",
    "\n",
    "\n",
    "### Uczenie się reprezentacji\n",
    "\n",
    "Jeśli nasz model jest postaci\n",
    "$$\n",
    "f(x) = f^{(n)}(f^{(n-1)}(\\ldots f^{1}(x) \\ldots )),\n",
    "$$\n",
    "to możemy przyjąć, że warstwa $f^{(n)}$ rozwiązuje problem liniowy na reprezentacji zadanej przez warstwy $f^{(1)}, f^{(2)}, \\ldots, f^{(n-1)}$. \n",
    "\n",
    "\n",
    "\n",
    "<img src=\"https://upload.wikimedia.org/wikipedia/commons/thumb/4/46/Colored_neural_network.svg/1200px-Colored_neural_network.svg.png\" width=300 />  \n",
    "\n",
    "Źródło: [Wikipedia](https://en.wikipedia.org/wiki/Artificial_neural_network).\n",
    "\n",
    "### Neurony\n",
    "\n",
    "**Neuron** w tym kontekście to fragment warstwy, który łączy się ze wszystkimi neuronami w poprzedniej warstwie i na ich podstawie produkuje jedno z wyjść warstwy. \n",
    "\n",
    "Jeśli nasza warstwa ma postać $g(W^T x + \\mathbf{b})$, to $i$-ty neuron implementuje funkcję:\n",
    "$$ f(x) = g(w_i^T x + b_i), $$\n",
    "gdzie wektor $w_i$ jest $i$-tą kolumną macierzy $W$ a $b_i$ jest $i$-tym elementem wektora $\\mathbf{b}$."
   ]
  },
  {
   "cell_type": "markdown",
   "metadata": {},
   "source": [
    "## Zadanie 2 (3 pkt.)\n",
    "Za pomocą przygotowanego przez TensorFlow [narzędzia do zabawy z sieciami neuronowymi](http://playground.tensorflow.org) proszę przeprowadzić poniższe eksperymenty i opisać rezultaty.\n",
    "\n",
    "Kilka uwag:\n",
    "* Każda odpowiedź powinna być zawarta w jednym/dwóch zdaniach. \n",
    "* Punktowane będą nie tylko prawidłowe odpowiedzi, ale też sensowne hipotezy/przypuszczenia.\n",
    "* Jeżeli proszeni są Państwo o podanie architektury sieci, to najlepiej zapisać ją w skrótowe postaci `n_1-n_2-...-n_k`, gdzie `n_i` to liczba neuronów w `i`-tej warstwie. Czyli jeśli sieć ma pięć neuronów w pierwszej warstwie, trzy neurony w drugiej warstwie oraz sześć neuronów w trzeciej warstwie, to można ją opisać jako `5-3-6`.\n",
    "* Proszę nie zmieniać opcji noise/ratio of training to test data. Proszę nie zmieniać feature'ów wejściowych, o ile nie będzie to wyraźnie podane w zadaniu.\n",
    "* Można użyć opcji \"show test data\", żeby sprawdzić, dlaczego koszt na datasecie treningowym i testowym się różni."
   ]
  },
  {
   "cell_type": "markdown",
   "metadata": {},
   "source": [
    "1) **Eksperymenty na zbiorze Gaussian**\n",
    "* Czy ten dataset można rozwiązać metodami płytkimi, których uczyliśmy się na wcześniejszych zajęciach?\n",
    "* Co sprawia, że ten zbiór danych jest łatwiejszy niż pozostałe?\n",
    "* Porównaj na tym zbiorze dwa modele: sieć neuronową z kilkoma warstwami i kilkudziesięcioma neuronami oraz sieć z jednym neuronem. Który z tych modeli bardziej nadaje się do zadania?"
   ]
  },
  {
   "cell_type": "code",
   "execution_count": 1,
   "metadata": {},
   "outputs": [],
   "source": [
    "# Tutaj należy opisać wyniki eksperymentów na zbiorze Gaussian.\n",
    "#1.Tak, ponieważ dane są liniowo separowalne.\n",
    "#2.Znów linowa separowalność danych, można je odseparować w bardzo łatwy sposób, są regularnie rozłożone\n",
    "#3.(Badam sieć z 6 warstwami po i 24 neuronami) Zarówno rozbudowana sieć, jak i ta z jednym neuronem \n",
    "# podzieliła dane praktycznie bezbłędnie. Do zadania bardziej nadaje się sieć z 1 neuronem \n",
    "#- jest łatwiejsza i w pełni wystarczająca."
   ]
  },
  {
   "cell_type": "markdown",
   "metadata": {},
   "source": [
    "2) **Eksperymenty na zbiorze Circle**\n",
    "* Załóżmy, że mamy sieć z jednym neuronem. Ile najmniej potrzeba feature'ów wejściowych, żeby model osiągał na datasecie testowym koszt $\\leq 0.001$? Jakie to feature'y?\n",
    "* Załóżmy, że na wejściu mamy tylko niezanurzone feature'y (tzn. $x_1$ oraz $x_2$). Stwórz najmniejszą sieć neuronową (pod względem liczby neuronów), która osiąga na datasecie testowym koszt $\\leq 0.001$. Opisz architekturę tej sieci. \n",
    "* Spróbuj rozwiązać ten problem za pomocą dowolnie dużej sieci neuronowej **z aktywacjami liniowymi** (nie zmieniając feature'ów wejściowych). Czy udało się osiągnąć wynik $\\leq 0.001$? Jeśli tak, podaj architekturę sieci. Jeśli nie, podaj hipotezę, dlaczego się nie udało."
   ]
  },
  {
   "cell_type": "code",
   "execution_count": 6,
   "metadata": {},
   "outputs": [],
   "source": [
    "# 1. Potrzebne były 2 feature'y - x_1^2 i x_2^2\n",
    "# 2. Po dłuższym czasie udało mi się osiągnąć ten wynik z siecią o 2 ukrytych warstwach - 4 neurony w pierwszej\n",
    "# i 2 w drugiej.\n",
    "# 3. Nie udało się dla dowolnie skomplikowanej architektury. Uważam, że  liniowe aktywacje nie są w stanie\n",
    "# odseparować \"kołowych\" danych, bo granica decyzyjna będzie liniowa (lub zbliżona do liniowej) \n"
   ]
  },
  {
   "cell_type": "markdown",
   "metadata": {},
   "source": [
    "3) **Eksperymenty na zbiorze Spiral**\n",
    "* Osiągnij (stabilny) koszt $\\leq 0.1$ na zbiorze testowym, podaj wykorzystaną architekturę, rodzaj aktywacji, regularyzację  oraz learning rate.\n",
    "* Co odróżnia rozwiązania które dobrze generalizują od rozwiązań, które overfitują pod względem wizualnym? Popatrz na płaszczyznę z danymi po wytrenowaniu modelu."
   ]
  },
  {
   "cell_type": "code",
   "execution_count": 7,
   "metadata": {},
   "outputs": [],
   "source": [
    "#1. Udało się z siecią zz 3 ukrytymi warstwami,aktywacja = ReLU, regularyzacja= L2, learning rate = 0.1\n",
    "#2. Granice decyzyjne są bardziej regularne i obejmują całą pomarańczową spiralę, \n",
    "#a np. bez regularyzacji są mniej stabilne i obejmują tylko część punktów"
   ]
  },
  {
   "cell_type": "markdown",
   "metadata": {},
   "source": [
    "## Zadanie 3 (2 pkt.)\n",
    "\n",
    "Ręcznie zaimplementować prostą sieć z jedną warstwą ukrytą. Sieć:\n",
    "1. Na wejściu będzie przyjmować dane o wymiarze `input_dim`\n",
    "2. Pierwsza warstwa ma je przetwarzać na wymiar `hidden_dim`.\n",
    "3. Druga warstwa ma przetwarzać wyjście pierwszej warstwy na wymiar `output_dim`.\n",
    "\n",
    "W tym celu trzeba stworzyć odpowiednie tensory reprezentujące wagi i biasy w poszczególnych warstwach\n",
    "1. Macierze wag należy zainicjalizować za pomocą wartości wylosowanych ze standardowego rozkładu normalnego. \n",
    "2. Dla obu warstw należy stworzyć _biasy_ zainicjalizowane na 0.\n",
    "3. Funkcją aktywacji dla pierwszej warstwy ma być `torch.tanh`. W drugiej warstwie ma być aktywacja liniowa (czyli brak aktywacji).\n",
    "\n",
    "Następnie należy zaimplementować pętlę uczenia z użyciem PyTorchowej funkcji kosztu `nn.CrossEntropyLoss` i optymalizatora SGD. Jeśli wszystko zostało zaimplementowane poprawne, to sieć powinna zazwyczaj osiagać accuracy większe niż `0.82` na zbiorze testowym (chociaż czasami może nie osiągać tej wartości z powodu pechowej inicjalizacji).\n",
    "\n",
    "**HINT** Proszę nie zapomnieć o `requires_grad=True` przy definiowaniu parametrów sieci."
   ]
  },
  {
   "cell_type": "code",
   "execution_count": 46,
   "metadata": {},
   "outputs": [],
   "source": [
    "class CustomNetwork(object):\n",
    "    \"\"\"\n",
    "    Simple 1-hidden layer linear neural network\n",
    "    \"\"\"\n",
    "\n",
    "    def __init__(self, input_dim: int, hidden_dim: int, output_dim: int):\n",
    "        \"\"\"\n",
    "        Initialize network's weights\n",
    "        \"\"\"\n",
    "\n",
    "        self.weight_1: torch.Tensor = torch.randn(input_dim, hidden_dim, requires_grad=True)\n",
    "        self.bias_1: torch.Tensor = torch.zeros(hidden_dim, requires_grad=True)\n",
    "\n",
    "        self.weight_2: torch.Tensor = torch.randn(hidden_dim, output_dim, requires_grad=True)\n",
    "        self.bias_2: torch.Tensor = torch.zeros(output_dim, requires_grad=True)\n",
    "\n",
    "    def __call__(self, x: torch.Tensor) -> torch.Tensor:\n",
    "        hidden = torch.tanh(x @ self.weight_1 + self.bias_1)\n",
    "        output = hidden @ self.weight_2 + self.bias_2\n",
    "        return output\n",
    "\n",
    "    def parameters(self) -> List[torch.Tensor]:\n",
    "        \"\"\"\n",
    "        Returns all trainable parameters\n",
    "        \"\"\"\n",
    "        return [self.weight_1, self.bias_1, self.weight_2, self.bias_2]"
   ]
  },
  {
   "cell_type": "code",
   "execution_count": 47,
   "metadata": {
    "collapsed": false,
    "jupyter": {
     "outputs_hidden": false
    }
   },
   "outputs": [],
   "source": [
    "def pytorch_backward(loss: torch.Tensor, model: CustomNetwork):\n",
    "    loss.backward()"
   ]
  },
  {
   "cell_type": "code",
   "execution_count": 60,
   "metadata": {
    "collapsed": false,
    "jupyter": {
     "outputs_hidden": false
    }
   },
   "outputs": [],
   "source": [
    "def train(model: CustomNetwork, epoch: int, batch_size: int, lr: float, momentum: float, backward_fn=pytorch_backward):\n",
    "\n",
    "    # prepare data loaders, based on the already loaded datasets\n",
    "    train_loader = torch.utils.data.DataLoader(train_data, batch_size=batch_size)\n",
    "    test_loader = torch.utils.data.DataLoader(test_data, batch_size=batch_size)\n",
    "\n",
    "    # initialize the optimizer using the hyperparams\n",
    "    optimizer: torch.optim.Optimizer = SGD(model.parameters(), lr=lr, momentum=momentum)\n",
    "\n",
    "    criterion = nn.CrossEntropyLoss()\n",
    "\n",
    "    # training loop\n",
    "    for e in range(1,epoch+1):\n",
    "        for i, (x, y) in enumerate(train_loader):\n",
    "            # reset the gradients from previouis iteration\n",
    "            optimizer.zero_grad()\n",
    "            # pass through the network\n",
    "            output = model(x) # type: torch.Tensor\n",
    "            # calculate loss\n",
    "            loss = criterion(output, y)  # type: torch.Tensor\n",
    "            # backward pass thorught the network\n",
    "            backward_fn(loss, model)\n",
    "            # apply the gradients\n",
    "            optimizer.step()\n",
    "\n",
    "            # log the loss value\n",
    "            if (i + 1) % 100 == 0:\n",
    "                print(\n",
    "                    f\"Epoch {e} iter {i + 1}/{len(train_data) // batch_size} loss: {loss.item()}\",\n",
    "                    end=\"\\r\",\n",
    "                )\n",
    "\n",
    "        # at the end of an epoch run evaluation on the test set\n",
    "        with torch.no_grad():\n",
    "            # initialize the number of correct predictions\n",
    "            correct: int = 0\n",
    "            for i, (x, y) in enumerate(test_loader):\n",
    "                # pass through the network\n",
    "                output = model(x)  # type: torch.Tensor\n",
    "                predicted = torch.argmax(output, dim=1)\n",
    "                # update the number of correctly predicted examples\n",
    "                correct += (predicted == y).sum().item()  # type: ignore\n",
    "                \n",
    "\n",
    "            print(f\"\\nTest accuracy: {correct / len(test_data)}\")\n",
    "    return correct\n",
    "  "
   ]
  },
  {
   "cell_type": "code",
   "execution_count": 61,
   "metadata": {
    "collapsed": false,
    "jupyter": {
     "outputs_hidden": false
    }
   },
   "outputs": [
    {
     "name": "stdout",
     "output_type": "stream",
     "text": [
      "Epoch 1 iter 900/937 loss: 1.3227216005325317\n",
      "Test accuracy: 0.8451\n",
      "Epoch 2 iter 900/937 loss: 0.7880345582962036\n",
      "Test accuracy: 0.8724\n",
      "Epoch 3 iter 900/937 loss: 0.51454025506973274\n",
      "Test accuracy: 0.8821\n"
     ]
    }
   ],
   "source": [
    "# hyperparams\n",
    "batch_size: int = 64\n",
    "epoch: int = 3\n",
    "lr: float = 0.01\n",
    "momentum: float = 0.9\n",
    "\n",
    "# initialize the model\n",
    "model: CustomNetwork = CustomNetwork(input_dim=784, hidden_dim=256, output_dim=10) # type: ignore\n",
    "\n",
    "correct = train(model, epoch, batch_size, lr, momentum)\n",
    "\n",
    "# this is your test\n",
    "assert (\n",
    "    correct / len(test_data) > 0.82\n",
    "), \"Subject to random seed you should be able to get >82% accuracy\""
   ]
  },
  {
   "cell_type": "markdown",
   "metadata": {
    "collapsed": false,
    "jupyter": {
     "outputs_hidden": false
    }
   },
   "source": [
    "## Zadanie 4 (2 pkt.)\n",
    "\n",
    "Ręcznie zaimplementować backward pass do sieci z poprzedniego zadania"
   ]
  },
  {
   "cell_type": "code",
   "execution_count": 95,
   "metadata": {
    "collapsed": false,
    "jupyter": {
     "outputs_hidden": false
    }
   },
   "outputs": [],
   "source": [
    "def my_manual_backward(loss: torch.Tensor, model: CustomNetwork):\n",
    "    with torch.no_grad():\n",
    "        # Note: CrossEntropyLoss = LogSoftmax + NLLLoss\n",
    "        out_grad = torch.ones_like(loss)\n",
    "        nll_grad_fn = loss.grad_fn\n",
    "        log_softmax_grad_fn = nll_grad_fn.next_functions[0][0]\n",
    "\n",
    "        add_grad_fn = log_softmax_grad_fn.next_functions[0][0]\n",
    "\n",
    "        x_times_w2_grad_fn = add_grad_fn.next_functions[0][0]\n",
    "        tanh_grad_fn = x_times_w2_grad_fn.next_functions[0][0]\n",
    "        x_times_w1_grad_fn = tanh_grad_fn.next_functions[0][0].next_functions[0][0]\n",
    "\n",
    "        nll_grad = ...\n",
    "\n",
    "        log_softmax_grad = ...\n",
    "\n",
    "        w2_times_x_grad, b2_grad = ...\n",
    "        b2_grad = b2_grad.sum(0)\n",
    "\n",
    "        x_grad, w2_grad = ...\n",
    "\n",
    "        tanh_grad = ...\n",
    "\n",
    "        w1_times_x_grad, b1_grad = ...\n",
    "        b1_grad = b1_grad.sum(0)\n",
    "\n",
    "        _, w1_grad = ...\n",
    "\n",
    "        model.weight_1.grad = w1_grad\n",
    "        model.bias_1.grad = b1_grad\n",
    "        model.weight_2.grad = w2_grad\n",
    "        model.bias_2.grad = b2_grad"
   ]
  },
  {
   "cell_type": "code",
   "execution_count": 96,
   "metadata": {
    "collapsed": false,
    "jupyter": {
     "outputs_hidden": false
    }
   },
   "outputs": [
    {
     "ename": "TypeError",
     "evalue": "cannot unpack non-iterable ellipsis object",
     "output_type": "error",
     "traceback": [
      "\u001b[1;31m---------------------------------------------------------------------------\u001b[0m",
      "\u001b[1;31mTypeError\u001b[0m                                 Traceback (most recent call last)",
      "Cell \u001b[1;32mIn[96], line 7\u001b[0m\n\u001b[0;32m      3\u001b[0m output \u001b[38;5;241m=\u001b[39m model(x)\n\u001b[0;32m      4\u001b[0m loss \u001b[38;5;241m=\u001b[39m torch\u001b[38;5;241m.\u001b[39mnn\u001b[38;5;241m.\u001b[39mfunctional\u001b[38;5;241m.\u001b[39mcross_entropy(output, y)\n\u001b[1;32m----> 7\u001b[0m \u001b[43mmy_manual_backward\u001b[49m\u001b[43m(\u001b[49m\u001b[43mloss\u001b[49m\u001b[43m,\u001b[49m\u001b[43m \u001b[49m\u001b[43mmodel\u001b[49m\u001b[43m)\u001b[49m\n\u001b[0;32m      9\u001b[0m w1g \u001b[38;5;241m=\u001b[39m model\u001b[38;5;241m.\u001b[39mweight_1\u001b[38;5;241m.\u001b[39mgrad\u001b[38;5;241m.\u001b[39mclone()\u001b[38;5;241m.\u001b[39mdetach()\n\u001b[0;32m     10\u001b[0m b1g \u001b[38;5;241m=\u001b[39m model\u001b[38;5;241m.\u001b[39mbias_1\u001b[38;5;241m.\u001b[39mgrad\u001b[38;5;241m.\u001b[39mclone()\u001b[38;5;241m.\u001b[39mdetach()\n",
      "Cell \u001b[1;32mIn[95], line 18\u001b[0m, in \u001b[0;36mmy_manual_backward\u001b[1;34m(loss, model)\u001b[0m\n\u001b[0;32m     14\u001b[0m nll_grad \u001b[38;5;241m=\u001b[39m \u001b[38;5;241m.\u001b[39m\u001b[38;5;241m.\u001b[39m\u001b[38;5;241m.\u001b[39m\n\u001b[0;32m     16\u001b[0m log_softmax_grad \u001b[38;5;241m=\u001b[39m \u001b[38;5;241m.\u001b[39m\u001b[38;5;241m.\u001b[39m\u001b[38;5;241m.\u001b[39m\n\u001b[1;32m---> 18\u001b[0m w2_times_x_grad, b2_grad \u001b[38;5;241m=\u001b[39m \u001b[38;5;241m.\u001b[39m\u001b[38;5;241m.\u001b[39m\u001b[38;5;241m.\u001b[39m\n\u001b[0;32m     19\u001b[0m b2_grad \u001b[38;5;241m=\u001b[39m b2_grad\u001b[38;5;241m.\u001b[39msum(\u001b[38;5;241m0\u001b[39m)\n\u001b[0;32m     21\u001b[0m x_grad, w2_grad \u001b[38;5;241m=\u001b[39m \u001b[38;5;241m.\u001b[39m\u001b[38;5;241m.\u001b[39m\u001b[38;5;241m.\u001b[39m\n",
      "\u001b[1;31mTypeError\u001b[0m: cannot unpack non-iterable ellipsis object"
     ]
    }
   ],
   "source": [
    "model: CustomNetwork = CustomNetwork(784, 64, 10)\n",
    "(x, y) = next(iter(train_loader))\n",
    "output = model(x)\n",
    "loss = torch.nn.functional.cross_entropy(output, y)\n",
    "\n",
    "\n",
    "my_manual_backward(loss, model)\n",
    "\n",
    "w1g = model.weight_1.grad.clone().detach()\n",
    "b1g = model.bias_1.grad.clone().detach()\n",
    "w2g = model.weight_2.grad.clone().detach()\n",
    "b2g = model.bias_2.grad.clone().detach()\n",
    "\n",
    "model.weight_1.grad = None\n",
    "model.bias_1.grad = None\n",
    "model.weight_2.grad = None\n",
    "model.bias_2.grad = None\n",
    "\n",
    "loss.backward()\n",
    "\n",
    "assert torch.allclose(w1g, model.weight_1.grad)\n",
    "assert torch.allclose(b1g, model.bias_1.grad)\n",
    "assert torch.allclose(w2g, model.weight_2.grad)\n",
    "assert torch.allclose(b2g, model.bias_2.grad)"
   ]
  },
  {
   "cell_type": "code",
   "execution_count": null,
   "metadata": {
    "collapsed": false,
    "jupyter": {
     "outputs_hidden": false
    }
   },
   "outputs": [],
   "source": [
    "# initialize the model\n",
    "model: CustomNetwork = CustomNetwork(input_dim=784, hidden_dim=256, output_dim=10) # type: ignore\n",
    "\n",
    "correct = train(model, epoch, batch_size, lr, momentum)\n",
    "\n",
    "# this is your test\n",
    "assert (\n",
    "    correct / len(test_data) > 0.82\n",
    "), \"Subject to random seed you should be able to get >82% accuracy\""
   ]
  }
 ],
 "metadata": {
  "kernelspec": {
   "display_name": "Python 3 (ipykernel)",
   "language": "python",
   "name": "python3"
  },
  "language_info": {
   "codemirror_mode": {
    "name": "ipython",
    "version": 3
   },
   "file_extension": ".py",
   "mimetype": "text/x-python",
   "name": "python",
   "nbconvert_exporter": "python",
   "pygments_lexer": "ipython3",
   "version": "3.10.15"
  }
 },
 "nbformat": 4,
 "nbformat_minor": 4
}
